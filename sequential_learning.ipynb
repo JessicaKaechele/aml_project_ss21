{
 "cells": [
  {
   "cell_type": "code",
   "execution_count": 1,
   "metadata": {
    "colab": {
     "base_uri": "https://localhost:8080/"
    },
    "collapsed": true,
    "id": "zwZJFe5-pCLV",
    "outputId": "34e05e6a-ae90-4a63-89e5-8d6ea1ca7996"
   },
   "outputs": [
    {
     "name": "stdout",
     "output_type": "stream",
     "text": [
      "Requirement already satisfied: opendatasets in c:\\users\\donat\\anaconda3\\lib\\site-packages (0.1.20)\n",
      "Requirement already satisfied: kaggle in c:\\users\\donat\\anaconda3\\lib\\site-packages (from opendatasets) (1.5.12)\n",
      "Requirement already satisfied: click in c:\\users\\donat\\anaconda3\\lib\\site-packages (from opendatasets) (7.1.2)\n",
      "Requirement already satisfied: tqdm in c:\\users\\donat\\anaconda3\\lib\\site-packages (from opendatasets) (4.59.0)\n",
      "Requirement already satisfied: python-slugify in c:\\users\\donat\\anaconda3\\lib\\site-packages (from kaggle->opendatasets) (5.0.2)\n",
      "Requirement already satisfied: requests in c:\\users\\donat\\anaconda3\\lib\\site-packages (from kaggle->opendatasets) (2.25.1)\n",
      "Requirement already satisfied: urllib3 in c:\\users\\donat\\anaconda3\\lib\\site-packages (from kaggle->opendatasets) (1.26.4)\n",
      "Requirement already satisfied: python-dateutil in c:\\users\\donat\\anaconda3\\lib\\site-packages (from kaggle->opendatasets) (2.8.1)\n",
      "Requirement already satisfied: certifi in c:\\users\\donat\\anaconda3\\lib\\site-packages (from kaggle->opendatasets) (2020.12.5)\n",
      "Requirement already satisfied: six>=1.10 in c:\\users\\donat\\anaconda3\\lib\\site-packages (from kaggle->opendatasets) (1.15.0)\n",
      "Requirement already satisfied: text-unidecode>=1.3 in c:\\users\\donat\\anaconda3\\lib\\site-packages (from python-slugify->kaggle->opendatasets) (1.3)\n",
      "Requirement already satisfied: idna<3,>=2.5 in c:\\users\\donat\\anaconda3\\lib\\site-packages (from requests->kaggle->opendatasets) (2.10)\n",
      "Requirement already satisfied: chardet<5,>=3.0.2 in c:\\users\\donat\\anaconda3\\lib\\site-packages (from requests->kaggle->opendatasets) (4.0.0)\n"
     ]
    }
   ],
   "source": [
    "!pip install opendatasets"
   ]
  },
  {
   "cell_type": "code",
   "execution_count": 2,
   "metadata": {
    "colab": {
     "base_uri": "https://localhost:8080/"
    },
    "collapsed": true,
    "id": "pG0Achp9VWYt",
    "outputId": "17ddae2f-bef7-492a-c00f-4a2826bc586a"
   },
   "outputs": [
    {
     "name": "stdout",
     "output_type": "stream",
     "text": [
      "Requirement already satisfied: tensorflow in c:\\users\\donat\\anaconda3\\lib\\site-packages (2.3.4)\n",
      "Requirement already satisfied: protobuf>=3.9.2 in c:\\users\\donat\\anaconda3\\lib\\site-packages (from tensorflow) (3.18.0)\n",
      "Requirement already satisfied: wheel>=0.26 in c:\\users\\donat\\anaconda3\\lib\\site-packages (from tensorflow) (0.36.2)\n",
      "Requirement already satisfied: h5py<2.11.0,>=2.10.0 in c:\\users\\donat\\anaconda3\\lib\\site-packages (from tensorflow) (2.10.0)\n",
      "Requirement already satisfied: six>=1.12.0 in c:\\users\\donat\\anaconda3\\lib\\site-packages (from tensorflow) (1.15.0)\n",
      "Requirement already satisfied: google-pasta>=0.1.8 in c:\\users\\donat\\anaconda3\\lib\\site-packages (from tensorflow) (0.2.0)\n",
      "Requirement already satisfied: gast==0.3.3 in c:\\users\\donat\\anaconda3\\lib\\site-packages (from tensorflow) (0.3.3)\n",
      "Requirement already satisfied: tensorflow-estimator<2.4.0,>=2.3.0 in c:\\users\\donat\\anaconda3\\lib\\site-packages (from tensorflow) (2.3.0)\n",
      "Requirement already satisfied: wrapt>=1.11.1 in c:\\users\\donat\\anaconda3\\lib\\site-packages (from tensorflow) (1.12.1)\n",
      "Requirement already satisfied: absl-py>=0.7.0 in c:\\users\\donat\\anaconda3\\lib\\site-packages (from tensorflow) (0.9.0)\n",
      "Collecting numpy<1.19.0,>=1.16.0\n",
      "  Using cached numpy-1.18.5-cp38-cp38-win_amd64.whl (12.8 MB)\n",
      "Requirement already satisfied: tensorboard<3,>=2.3.0 in c:\\users\\donat\\anaconda3\\lib\\site-packages (from tensorflow) (2.6.0)\n",
      "Requirement already satisfied: keras-preprocessing<1.2,>=1.1.1 in c:\\users\\donat\\anaconda3\\lib\\site-packages (from tensorflow) (1.1.2)\n",
      "Requirement already satisfied: astunparse==1.6.3 in c:\\users\\donat\\anaconda3\\lib\\site-packages (from tensorflow) (1.6.3)\n",
      "Requirement already satisfied: termcolor>=1.1.0 in c:\\users\\donat\\anaconda3\\lib\\site-packages (from tensorflow) (1.1.0)\n",
      "Requirement already satisfied: grpcio>=1.8.6 in c:\\users\\donat\\anaconda3\\lib\\site-packages (from tensorflow) (1.29.0)\n",
      "Requirement already satisfied: opt-einsum>=2.3.2 in c:\\users\\donat\\anaconda3\\lib\\site-packages (from tensorflow) (3.3.0)\n",
      "Requirement already satisfied: markdown>=2.6.8 in c:\\users\\donat\\anaconda3\\lib\\site-packages (from tensorboard<3,>=2.3.0->tensorflow) (3.3.4)\n",
      "Requirement already satisfied: werkzeug>=0.11.15 in c:\\users\\donat\\anaconda3\\lib\\site-packages (from tensorboard<3,>=2.3.0->tensorflow) (1.0.1)\n",
      "Requirement already satisfied: google-auth-oauthlib<0.5,>=0.4.1 in c:\\users\\donat\\anaconda3\\lib\\site-packages (from tensorboard<3,>=2.3.0->tensorflow) (0.4.6)\n",
      "Requirement already satisfied: tensorboard-data-server<0.7.0,>=0.6.0 in c:\\users\\donat\\anaconda3\\lib\\site-packages (from tensorboard<3,>=2.3.0->tensorflow) (0.6.1)\n",
      "Requirement already satisfied: google-auth<2,>=1.6.3 in c:\\users\\donat\\anaconda3\\lib\\site-packages (from tensorboard<3,>=2.3.0->tensorflow) (1.35.0)\n",
      "Requirement already satisfied: tensorboard-plugin-wit>=1.6.0 in c:\\users\\donat\\anaconda3\\lib\\site-packages (from tensorboard<3,>=2.3.0->tensorflow) (1.8.0)\n",
      "Requirement already satisfied: requests<3,>=2.21.0 in c:\\users\\donat\\anaconda3\\lib\\site-packages (from tensorboard<3,>=2.3.0->tensorflow) (2.25.1)\n",
      "Requirement already satisfied: setuptools>=41.0.0 in c:\\users\\donat\\anaconda3\\lib\\site-packages (from tensorboard<3,>=2.3.0->tensorflow) (52.0.0.post20210125)\n",
      "Requirement already satisfied: cachetools<5.0,>=2.0.0 in c:\\users\\donat\\anaconda3\\lib\\site-packages (from google-auth<2,>=1.6.3->tensorboard<3,>=2.3.0->tensorflow) (3.1.1)\n",
      "Requirement already satisfied: pyasn1-modules>=0.2.1 in c:\\users\\donat\\anaconda3\\lib\\site-packages (from google-auth<2,>=1.6.3->tensorboard<3,>=2.3.0->tensorflow) (0.2.8)\n",
      "Requirement already satisfied: rsa<5,>=3.1.4 in c:\\users\\donat\\anaconda3\\lib\\site-packages (from google-auth<2,>=1.6.3->tensorboard<3,>=2.3.0->tensorflow) (4.7.2)\n",
      "Requirement already satisfied: requests-oauthlib>=0.7.0 in c:\\users\\donat\\anaconda3\\lib\\site-packages (from google-auth-oauthlib<0.5,>=0.4.1->tensorboard<3,>=2.3.0->tensorflow) (1.3.0)\n",
      "Requirement already satisfied: pyasn1<0.5.0,>=0.4.6 in c:\\users\\donat\\anaconda3\\lib\\site-packages (from pyasn1-modules>=0.2.1->google-auth<2,>=1.6.3->tensorboard<3,>=2.3.0->tensorflow) (0.4.8)\n",
      "Requirement already satisfied: idna<3,>=2.5 in c:\\users\\donat\\anaconda3\\lib\\site-packages (from requests<3,>=2.21.0->tensorboard<3,>=2.3.0->tensorflow) (2.10)\n",
      "Requirement already satisfied: certifi>=2017.4.17 in c:\\users\\donat\\anaconda3\\lib\\site-packages (from requests<3,>=2.21.0->tensorboard<3,>=2.3.0->tensorflow) (2020.12.5)\n",
      "Requirement already satisfied: chardet<5,>=3.0.2 in c:\\users\\donat\\anaconda3\\lib\\site-packages (from requests<3,>=2.21.0->tensorboard<3,>=2.3.0->tensorflow) (4.0.0)\n",
      "Requirement already satisfied: urllib3<1.27,>=1.21.1 in c:\\users\\donat\\anaconda3\\lib\\site-packages (from requests<3,>=2.21.0->tensorboard<3,>=2.3.0->tensorflow) (1.26.4)\n",
      "Requirement already satisfied: oauthlib>=3.0.0 in c:\\users\\donat\\anaconda3\\lib\\site-packages (from requests-oauthlib>=0.7.0->google-auth-oauthlib<0.5,>=0.4.1->tensorboard<3,>=2.3.0->tensorflow) (3.1.1)\n",
      "Installing collected packages: numpy\n",
      "  Attempting uninstall: numpy\n",
      "    Found existing installation: numpy 1.21.2\n",
      "    Uninstalling numpy-1.21.2:\n",
      "      Successfully uninstalled numpy-1.21.2\n",
      "Successfully installed numpy-1.18.5\n"
     ]
    }
   ],
   "source": [
    "!pip install tensorflow"
   ]
  },
  {
   "cell_type": "code",
   "execution_count": 3,
   "metadata": {
    "colab": {
     "base_uri": "https://localhost:8080/"
    },
    "collapsed": true,
    "id": "_RLMHIkDVWYv",
    "outputId": "4475637b-3cda-411c-8010-37205064510b"
   },
   "outputs": [
    {
     "name": "stdout",
     "output_type": "stream",
     "text": [
      "Requirement already satisfied: tensorflow_federated in c:\\users\\donat\\anaconda3\\lib\\site-packages (0.17.0)\n",
      "Requirement already satisfied: tensorflow-addons~=0.11.1 in c:\\users\\donat\\anaconda3\\lib\\site-packages (from tensorflow_federated) (0.11.2)\n",
      "Requirement already satisfied: tensorflow~=2.3.0 in c:\\users\\donat\\anaconda3\\lib\\site-packages (from tensorflow_federated) (2.3.4)\n",
      "Requirement already satisfied: semantic-version~=2.8.5 in c:\\users\\donat\\anaconda3\\lib\\site-packages (from tensorflow_federated) (2.8.5)\n",
      "Requirement already satisfied: dm-tree~=0.1.1 in c:\\users\\donat\\anaconda3\\lib\\site-packages (from tensorflow_federated) (0.1.6)\n",
      "Requirement already satisfied: cachetools~=3.1.1 in c:\\users\\donat\\anaconda3\\lib\\site-packages (from tensorflow_federated) (3.1.1)\n",
      "Requirement already satisfied: retrying~=1.3.3 in c:\\users\\donat\\anaconda3\\lib\\site-packages (from tensorflow_federated) (1.3.3)\n",
      "Requirement already satisfied: portpicker~=1.3.1 in c:\\users\\donat\\anaconda3\\lib\\site-packages (from tensorflow_federated) (1.3.9)\n",
      "Requirement already satisfied: h5py~=2.10.0 in c:\\users\\donat\\anaconda3\\lib\\site-packages (from tensorflow_federated) (2.10.0)\n",
      "Requirement already satisfied: tensorflow-model-optimization~=0.4.0 in c:\\users\\donat\\anaconda3\\lib\\site-packages (from tensorflow_federated) (0.4.1)\n",
      "Requirement already satisfied: grpcio~=1.29.0 in c:\\users\\donat\\anaconda3\\lib\\site-packages (from tensorflow_federated) (1.29.0)\n",
      "Requirement already satisfied: attrs~=19.3.0 in c:\\users\\donat\\anaconda3\\lib\\site-packages (from tensorflow_federated) (19.3.0)\n",
      "Requirement already satisfied: tensorflow-privacy~=0.5.0 in c:\\users\\donat\\anaconda3\\lib\\site-packages (from tensorflow_federated) (0.5.2)\n",
      "Requirement already satisfied: numpy~=1.18.4 in c:\\users\\donat\\anaconda3\\lib\\site-packages (from tensorflow_federated) (1.18.5)\n",
      "Requirement already satisfied: absl-py~=0.9.0 in c:\\users\\donat\\anaconda3\\lib\\site-packages (from tensorflow_federated) (0.9.0)\n",
      "Requirement already satisfied: six in c:\\users\\donat\\anaconda3\\lib\\site-packages (from absl-py~=0.9.0->tensorflow_federated) (1.15.0)\n",
      "Requirement already satisfied: astunparse==1.6.3 in c:\\users\\donat\\anaconda3\\lib\\site-packages (from tensorflow~=2.3.0->tensorflow_federated) (1.6.3)\n",
      "Requirement already satisfied: protobuf>=3.9.2 in c:\\users\\donat\\anaconda3\\lib\\site-packages (from tensorflow~=2.3.0->tensorflow_federated) (3.18.0)\n",
      "Requirement already satisfied: tensorboard<3,>=2.3.0 in c:\\users\\donat\\anaconda3\\lib\\site-packages (from tensorflow~=2.3.0->tensorflow_federated) (2.6.0)\n",
      "Requirement already satisfied: wheel>=0.26 in c:\\users\\donat\\anaconda3\\lib\\site-packages (from tensorflow~=2.3.0->tensorflow_federated) (0.36.2)\n",
      "Requirement already satisfied: termcolor>=1.1.0 in c:\\users\\donat\\anaconda3\\lib\\site-packages (from tensorflow~=2.3.0->tensorflow_federated) (1.1.0)\n",
      "Requirement already satisfied: keras-preprocessing<1.2,>=1.1.1 in c:\\users\\donat\\anaconda3\\lib\\site-packages (from tensorflow~=2.3.0->tensorflow_federated) (1.1.2)\n",
      "Requirement already satisfied: opt-einsum>=2.3.2 in c:\\users\\donat\\anaconda3\\lib\\site-packages (from tensorflow~=2.3.0->tensorflow_federated) (3.3.0)\n",
      "Requirement already satisfied: tensorflow-estimator<2.4.0,>=2.3.0 in c:\\users\\donat\\anaconda3\\lib\\site-packages (from tensorflow~=2.3.0->tensorflow_federated) (2.3.0)\n",
      "Requirement already satisfied: wrapt>=1.11.1 in c:\\users\\donat\\anaconda3\\lib\\site-packages (from tensorflow~=2.3.0->tensorflow_federated) (1.12.1)\n",
      "Requirement already satisfied: google-pasta>=0.1.8 in c:\\users\\donat\\anaconda3\\lib\\site-packages (from tensorflow~=2.3.0->tensorflow_federated) (0.2.0)\n",
      "Requirement already satisfied: gast==0.3.3 in c:\\users\\donat\\anaconda3\\lib\\site-packages (from tensorflow~=2.3.0->tensorflow_federated) (0.3.3)\n",
      "Requirement already satisfied: google-auth<2,>=1.6.3 in c:\\users\\donat\\anaconda3\\lib\\site-packages (from tensorboard<3,>=2.3.0->tensorflow~=2.3.0->tensorflow_federated) (1.35.0)\n",
      "Requirement already satisfied: markdown>=2.6.8 in c:\\users\\donat\\anaconda3\\lib\\site-packages (from tensorboard<3,>=2.3.0->tensorflow~=2.3.0->tensorflow_federated) (3.3.4)\n",
      "Requirement already satisfied: tensorboard-data-server<0.7.0,>=0.6.0 in c:\\users\\donat\\anaconda3\\lib\\site-packages (from tensorboard<3,>=2.3.0->tensorflow~=2.3.0->tensorflow_federated) (0.6.1)\n",
      "Requirement already satisfied: setuptools>=41.0.0 in c:\\users\\donat\\anaconda3\\lib\\site-packages (from tensorboard<3,>=2.3.0->tensorflow~=2.3.0->tensorflow_federated) (52.0.0.post20210125)\n",
      "Requirement already satisfied: google-auth-oauthlib<0.5,>=0.4.1 in c:\\users\\donat\\anaconda3\\lib\\site-packages (from tensorboard<3,>=2.3.0->tensorflow~=2.3.0->tensorflow_federated) (0.4.6)\n",
      "Requirement already satisfied: tensorboard-plugin-wit>=1.6.0 in c:\\users\\donat\\anaconda3\\lib\\site-packages (from tensorboard<3,>=2.3.0->tensorflow~=2.3.0->tensorflow_federated) (1.8.0)\n",
      "Requirement already satisfied: werkzeug>=0.11.15 in c:\\users\\donat\\anaconda3\\lib\\site-packages (from tensorboard<3,>=2.3.0->tensorflow~=2.3.0->tensorflow_federated) (1.0.1)\n",
      "Requirement already satisfied: requests<3,>=2.21.0 in c:\\users\\donat\\anaconda3\\lib\\site-packages (from tensorboard<3,>=2.3.0->tensorflow~=2.3.0->tensorflow_federated) (2.25.1)\n",
      "Requirement already satisfied: pyasn1-modules>=0.2.1 in c:\\users\\donat\\anaconda3\\lib\\site-packages (from google-auth<2,>=1.6.3->tensorboard<3,>=2.3.0->tensorflow~=2.3.0->tensorflow_federated) (0.2.8)\n",
      "Requirement already satisfied: rsa<5,>=3.1.4 in c:\\users\\donat\\anaconda3\\lib\\site-packages (from google-auth<2,>=1.6.3->tensorboard<3,>=2.3.0->tensorflow~=2.3.0->tensorflow_federated) (4.7.2)\n",
      "Requirement already satisfied: requests-oauthlib>=0.7.0 in c:\\users\\donat\\anaconda3\\lib\\site-packages (from google-auth-oauthlib<0.5,>=0.4.1->tensorboard<3,>=2.3.0->tensorflow~=2.3.0->tensorflow_federated) (1.3.0)\n",
      "Requirement already satisfied: pyasn1<0.5.0,>=0.4.6 in c:\\users\\donat\\anaconda3\\lib\\site-packages (from pyasn1-modules>=0.2.1->google-auth<2,>=1.6.3->tensorboard<3,>=2.3.0->tensorflow~=2.3.0->tensorflow_federated) (0.4.8)\n",
      "Requirement already satisfied: idna<3,>=2.5 in c:\\users\\donat\\anaconda3\\lib\\site-packages (from requests<3,>=2.21.0->tensorboard<3,>=2.3.0->tensorflow~=2.3.0->tensorflow_federated) (2.10)\n",
      "Requirement already satisfied: chardet<5,>=3.0.2 in c:\\users\\donat\\anaconda3\\lib\\site-packages (from requests<3,>=2.21.0->tensorboard<3,>=2.3.0->tensorflow~=2.3.0->tensorflow_federated) (4.0.0)\n",
      "Requirement already satisfied: certifi>=2017.4.17 in c:\\users\\donat\\anaconda3\\lib\\site-packages (from requests<3,>=2.21.0->tensorboard<3,>=2.3.0->tensorflow~=2.3.0->tensorflow_federated) (2020.12.5)\n",
      "Requirement already satisfied: urllib3<1.27,>=1.21.1 in c:\\users\\donat\\anaconda3\\lib\\site-packages (from requests<3,>=2.21.0->tensorboard<3,>=2.3.0->tensorflow~=2.3.0->tensorflow_federated) (1.26.4)\n",
      "Requirement already satisfied: oauthlib>=3.0.0 in c:\\users\\donat\\anaconda3\\lib\\site-packages (from requests-oauthlib>=0.7.0->google-auth-oauthlib<0.5,>=0.4.1->tensorboard<3,>=2.3.0->tensorflow~=2.3.0->tensorflow_federated) (3.1.1)\n",
      "Requirement already satisfied: typeguard>=2.7 in c:\\users\\donat\\anaconda3\\lib\\site-packages (from tensorflow-addons~=0.11.1->tensorflow_federated) (2.12.1)\n",
      "Requirement already satisfied: mpmath in c:\\users\\donat\\anaconda3\\lib\\site-packages (from tensorflow-privacy~=0.5.0->tensorflow_federated) (1.2.1)\n",
      "Requirement already satisfied: scipy>=0.17 in c:\\users\\donat\\anaconda3\\lib\\site-packages (from tensorflow-privacy~=0.5.0->tensorflow_federated) (1.6.2)\n"
     ]
    }
   ],
   "source": [
    "!pip install tensorflow_federated"
   ]
  },
  {
   "cell_type": "code",
   "execution_count": 26,
   "metadata": {
    "colab": {
     "base_uri": "https://localhost:8080/"
    },
    "id": "TBD5W-SJWERa",
    "outputId": "1396852a-e233-49bb-80a1-f3fb16bf7c9f"
   },
   "outputs": [
    {
     "name": "stdout",
     "output_type": "stream",
     "text": [
      "Thu Sep 30 16:09:59 2021       \n",
      "+-----------------------------------------------------------------------------+\n",
      "| NVIDIA-SMI 472.12       Driver Version: 472.12       CUDA Version: 11.4     |\n",
      "|-------------------------------+----------------------+----------------------+\n",
      "| GPU  Name            TCC/WDDM | Bus-Id        Disp.A | Volatile Uncorr. ECC |\n",
      "| Fan  Temp  Perf  Pwr:Usage/Cap|         Memory-Usage | GPU-Util  Compute M. |\n",
      "|                               |                      |               MIG M. |\n",
      "|===============================+======================+======================|\n",
      "|   0  NVIDIA GeForce ... WDDM  | 00000000:01:00.0 Off |                  N/A |\n",
      "| N/A   45C    P0    15W /  N/A |   2000MiB /  2048MiB |      0%      Default |\n",
      "|                               |                      |                  N/A |\n",
      "+-------------------------------+----------------------+----------------------+\n",
      "                                                                               \n",
      "+-----------------------------------------------------------------------------+\n",
      "| Processes:                                                                  |\n",
      "|  GPU   GI   CI        PID   Type   Process name                  GPU Memory |\n",
      "|        ID   ID                                                   Usage      |\n",
      "|=============================================================================|\n",
      "|    0   N/A  N/A      1292    C+G   Insufficient Permissions        N/A      |\n",
      "|    0   N/A  N/A      9952    C+G   ...5n1h2txyewy\\SearchApp.exe    N/A      |\n",
      "|    0   N/A  N/A     11328    C+G   Insufficient Permissions        N/A      |\n",
      "|    0   N/A  N/A     13032    C+G   ...ekyb3d8bbwe\\YourPhone.exe    N/A      |\n",
      "|    0   N/A  N/A     15864    C+G   ...nputApp\\TextInputHost.exe    N/A      |\n",
      "|    0   N/A  N/A     16440    C+G   ...auncher\\PowerLauncher.exe    N/A      |\n",
      "|    0   N/A  N/A     21992    C+G   ...cw5n1h2txyewy\\LockApp.exe    N/A      |\n",
      "|    0   N/A  N/A     36672      C   ...onat\\anaconda3\\python.exe    N/A      |\n",
      "|    0   N/A  N/A     40724    C+G   ...t\\GalaxyClient Helper.exe    N/A      |\n",
      "|    0   N/A  N/A     48724    C+G   ...signal-desktop\\Signal.exe    N/A      |\n",
      "+-----------------------------------------------------------------------------+\n"
     ]
    }
   ],
   "source": [
    "!nvidia-smi"
   ]
  },
  {
   "cell_type": "code",
   "execution_count": 5,
   "metadata": {
    "colab": {
     "base_uri": "https://localhost:8080/"
    },
    "collapsed": true,
    "id": "TYanrj2lWM4p",
    "outputId": "21932cc5-b0ff-4ff1-af2d-85a8bbdcf9b1"
   },
   "outputs": [
    {
     "name": "stdout",
     "output_type": "stream",
     "text": [
      "Looking in links: https://download.pytorch.org/whl/torch_stable.html\n",
      "Requirement already satisfied: torch==1.9.0+cu111 in c:\\users\\donat\\anaconda3\\lib\\site-packages (1.9.0+cu111)\n",
      "Requirement already satisfied: torchvision==0.10.0+cu111 in c:\\users\\donat\\anaconda3\\lib\\site-packages (0.10.0+cu111)\n",
      "Requirement already satisfied: torchaudio===0.9.0 in c:\\users\\donat\\anaconda3\\lib\\site-packages (0.9.0)\n",
      "Requirement already satisfied: typing-extensions in c:\\users\\donat\\anaconda3\\lib\\site-packages (from torch==1.9.0+cu111) (3.7.4.3)\n",
      "Requirement already satisfied: pillow>=5.3.0 in c:\\users\\donat\\anaconda3\\lib\\site-packages (from torchvision==0.10.0+cu111) (8.2.0)\n",
      "Requirement already satisfied: numpy in c:\\users\\donat\\anaconda3\\lib\\site-packages (from torchvision==0.10.0+cu111) (1.18.5)\n"
     ]
    }
   ],
   "source": [
    "!pip install torch==1.9.0+cu111 torchvision==0.10.0+cu111 torchaudio===0.9.0 -f https://download.pytorch.org/whl/torch_stable.html"
   ]
  },
  {
   "cell_type": "code",
   "execution_count": 1,
   "metadata": {
    "id": "Jpd3iU1El1ZT"
   },
   "outputs": [],
   "source": [
    "import opendatasets as od\n",
    "from tensorflow import keras\n",
    "import numpy as np"
   ]
  },
  {
   "cell_type": "code",
   "execution_count": 2,
   "metadata": {
    "colab": {
     "base_uri": "https://localhost:8080/"
    },
    "id": "TraicDeCpHii",
    "outputId": "b6cdd2b7-7c26-44a8-be17-7fbbe8ce7574"
   },
   "outputs": [
    {
     "name": "stdout",
     "output_type": "stream",
     "text": [
      "Skipping, found downloaded files in \".\\chest-xray-covid19-pneumonia\" (use force=True to force download)\n",
      "Skipping, found downloaded files in \".\\novel-corona-virus-2019-dataset\" (use force=True to force download)\n"
     ]
    }
   ],
   "source": [
    "od.download(\"https://www.kaggle.com/prashant268/chest-xray-covid19-pneumonia\")\n",
    "od.download(\"https://www.kaggle.com/sudalairajkumar/novel-corona-virus-2019-dataset\")"
   ]
  },
  {
   "cell_type": "code",
   "execution_count": 3,
   "metadata": {
    "id": "JPFiGGjbhta_"
   },
   "outputs": [],
   "source": [
    "LEARNING_RATE = 0.001 # 0.0001\n",
    "MAX_EPOCHS = 25\n",
    "TARGET_FOLDER = \"weights\""
   ]
  },
  {
   "cell_type": "code",
   "execution_count": 4,
   "metadata": {
    "id": "WvAJ8eTnTRkP"
   },
   "outputs": [],
   "source": [
    "import torch\n",
    "import torchvision\n",
    "from torchvision import datasets, transforms"
   ]
  },
  {
   "cell_type": "markdown",
   "metadata": {
    "id": "VW1RF4LvUUsG"
   },
   "source": [
    "Resize Images to 244, 244. By using to_tensor the images are already normalized between 0 and 1. \"The image object is an array of (244, 244, 3) should be flattened to be list (178, 608).\" What? wie?"
   ]
  },
  {
   "cell_type": "code",
   "execution_count": 5,
   "metadata": {
    "id": "7Z_GY07pSzQT"
   },
   "outputs": [],
   "source": [
    "transform = transforms.Compose([transforms.Resize((244, 244))\n",
    "                                , transforms.ToTensor()]\n",
    "                               #, transforms.Normalize(mean=[0.485, 0.456, 0.406], std=[0.229, 0.224, 0.225]) # find mean and std of dataset\n",
    "                              )\n",
    "\n",
    "test_set = datasets.ImageFolder('chest-xray-covid19-pneumonia/Data/test', transform=transform)\n",
    "\n",
    "train_set = dataset = datasets.ImageFolder('chest-xray-covid19-pneumonia/Data/train', transform=transform)"
   ]
  },
  {
   "cell_type": "code",
   "execution_count": 6,
   "metadata": {
    "id": "3Z9lep1yVWY3"
   },
   "outputs": [],
   "source": [
    "def label_preparation(labels):\n",
    "    labels = np.array(labels)\n",
    "    labels[labels > 0] = 1\n",
    "    return list(labels)\n",
    "\n",
    "def label_preparation_tensor(labels):\n",
    "    labels[labels > 0] = 1\n",
    "    return labels\n",
    "\n",
    "train_set.targets = label_preparation(train_set.targets)\n",
    "\n",
    "test_set.targets = label_preparation(test_set.targets)"
   ]
  },
  {
   "cell_type": "code",
   "execution_count": 7,
   "metadata": {
    "colab": {
     "base_uri": "https://localhost:8080/"
    },
    "id": "VAi62OkRTZfV",
    "outputId": "061dab4c-98c3-4399-b23e-fa628bdd2176"
   },
   "outputs": [],
   "source": [
    "train_loader = torch.utils.data.DataLoader(train_set, batch_size=64, shuffle=True, num_workers=2)\n",
    "\n",
    "test_loader = torch.utils.data.DataLoader(test_set, batch_size=64, shuffle=False, num_workers=2)"
   ]
  },
  {
   "cell_type": "code",
   "execution_count": 7,
   "metadata": {
    "colab": {
     "base_uri": "https://localhost:8080/"
    },
    "id": "GWhXD92ZRzNP",
    "outputId": "474bd18f-946e-43cf-f59c-a358b6a839eb"
   },
   "outputs": [
    {
     "name": "stdout",
     "output_type": "stream",
     "text": [
      "Current device: cuda:0\n"
     ]
    }
   ],
   "source": [
    "device = torch.device(\"cuda:0\" if torch.cuda.is_available() else \"cpu\")\n",
    "\n",
    "print(f\"Current device: {device}\")"
   ]
  },
  {
   "cell_type": "code",
   "execution_count": 8,
   "metadata": {
    "id": "icqqTTRN-ht6"
   },
   "outputs": [],
   "source": [
    "def calc_accuracy(result, labels):\n",
    "    result = torch.sigmoid(result).round()\n",
    "    \n",
    "    correct_results_sum = (result == labels).sum().float()\n",
    "    acc = correct_results_sum/labels.shape[0]\n",
    "    acc *= 100\n",
    "    \n",
    "    return acc\n"
   ]
  },
  {
   "cell_type": "code",
   "execution_count": 9,
   "metadata": {
    "id": "A5Me-0EHR_md"
   },
   "outputs": [],
   "source": [
    "def train(model, data_loader, optimizer, loss):\n",
    "    \"\"\"\n",
    "    model -- neural net\n",
    "    data_loader -- dataloader for train images\n",
    "    optimizer -- optimizer\n",
    "    \"\"\"\n",
    "    model.train()\n",
    "    \n",
    "    # use pos weights because of unbalanced data set\n",
    "    accuracy = 0\n",
    "    for step, [images, labels] in enumerate(data_loader, 1):\n",
    "        images = images.to(device)\n",
    "        labels = label_preparation_tensor(labels.to(device))\n",
    "\n",
    "        optimizer.zero_grad()\n",
    "        \n",
    "        result = model(images)\n",
    "        targets = labels.unsqueeze(1).float()\n",
    "\n",
    "        loss_value = loss(result.float(), targets)\n",
    "\n",
    "        # backpropagation\n",
    "        loss_value.backward()\n",
    "        optimizer.step()\n",
    "                                    \n",
    "        if step % 10 == 0:\n",
    "            accuracy += calc_accuracy(result, labels.unsqueeze(1))\n",
    "            print(f\"TRAINING - Step: {step}, loss: {loss_value}, rolling accuracy: {accuracy*10/step}\")"
   ]
  },
  {
   "cell_type": "code",
   "execution_count": 10,
   "metadata": {
    "id": "Xk2CR_whWTxw"
   },
   "outputs": [],
   "source": [
    "def test(model, test_loader, loss):\n",
    "    \"\"\"    \n",
    "    model -- neural net \n",
    "    test_loader -- dataloader of test images\n",
    "    epoch -- current epoch\n",
    "    \"\"\"\n",
    "    model.eval()\n",
    "    \n",
    "    with torch.no_grad():\n",
    "        loss_value = 0\n",
    "        accuracy = 0\n",
    "        for step, [images, labels] in enumerate(test_loader, 1):\n",
    "            images = images.to(device)\n",
    "            labels = label_preparation_tensor(labels.to(device))\n",
    "\n",
    "            result = model(images)\n",
    "            targets = labels.detach().unsqueeze(1).float()\n",
    "\n",
    "            loss_value += loss(result.detach(), targets)\n",
    "            accuracy += calc_accuracy(result.detach(), labels.detach().unsqueeze(1))\n",
    "\n",
    "        loss_value /= step\n",
    "        accuracy /=  step\n",
    "  \n",
    "    print(f\"TESTING - Loss: {loss_value}, Accuracy: {accuracy}\")\n",
    "    return accuracy > 93."
   ]
  },
  {
   "cell_type": "code",
   "execution_count": 11,
   "metadata": {
    "id": "jzfyMxdBVoB1"
   },
   "outputs": [],
   "source": [
    "def run_local_training():\n",
    "    model = torchvision.models.resnet18(pretrained=False, num_classes=1)\n",
    "    model.to(device)\n",
    "\n",
    "    # initialize optimizer\n",
    "    optimizer = torch.optim.Adam(model.parameters())\n",
    "\n",
    "    # use pos weights because of unbalanced data set\n",
    "    loss = torch.nn.BCEWithLogitsLoss(pos_weight=torch.tensor([1./10])).to(device) # binary crossentropy\n",
    "\n",
    "    # start training\n",
    "    for epoch in range(MAX_EPOCHS):\n",
    "        print(f\"+++ EPOCH: {epoch+1} +++++++++\")\n",
    "        torch.nn.BCEWithLogitsLoss(pos_weight=torch.tensor([1./10])).to(device) # binary crossentropy (non-federated)\n",
    "        train(model, train_loader, optimizer, loss)\n",
    "        break\n",
    "        # save interim weights\n",
    "        torch.save(model.state_dict(), f'./{TARGET_FOLDER}/epoch_{epoch}.ckpt')\n",
    "\n",
    "        if test(model, test_loader, loss) and epoch > 4:\n",
    "            break"
   ]
  },
  {
   "cell_type": "code",
   "execution_count": 12,
   "metadata": {
    "id": "0uC8i53EVWZA"
   },
   "outputs": [],
   "source": [
    "run_local_training()"
   ]
  },
  {
   "cell_type": "code",
   "execution_count": null,
   "metadata": {},
   "outputs": [],
   "source": []
  }
 ],
 "metadata": {
  "accelerator": "GPU",
  "colab": {
   "collapsed_sections": [],
   "name": "federated_learning_with_save.ipynb",
   "provenance": []
  },
  "kernelspec": {
   "display_name": "Python 3",
   "language": "python",
   "name": "python3"
  },
  "language_info": {
   "codemirror_mode": {
    "name": "ipython",
    "version": 3
   },
   "file_extension": ".py",
   "mimetype": "text/x-python",
   "name": "python",
   "nbconvert_exporter": "python",
   "pygments_lexer": "ipython3",
   "version": "3.8.8"
  }
 },
 "nbformat": 4,
 "nbformat_minor": 1
}
