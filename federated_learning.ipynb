{
 "cells": [
  {
   "cell_type": "code",
   "execution_count": null,
   "metadata": {
    "colab": {
     "base_uri": "https://localhost:8080/"
    },
    "id": "zwZJFe5-pCLV",
    "outputId": "34e05e6a-ae90-4a63-89e5-8d6ea1ca7996"
   },
   "outputs": [],
   "source": [
    "!pip install opendatasets"
   ]
  },
  {
   "cell_type": "code",
   "execution_count": null,
   "metadata": {
    "colab": {
     "base_uri": "https://localhost:8080/"
    },
    "id": "pG0Achp9VWYt",
    "outputId": "17ddae2f-bef7-492a-c00f-4a2826bc586a"
   },
   "outputs": [],
   "source": [
    "!pip install tensorflow"
   ]
  },
  {
   "cell_type": "code",
   "execution_count": null,
   "metadata": {
    "colab": {
     "base_uri": "https://localhost:8080/"
    },
    "id": "_RLMHIkDVWYv",
    "outputId": "4475637b-3cda-411c-8010-37205064510b"
   },
   "outputs": [],
   "source": [
    "!pip install tensorflow_federated"
   ]
  },
  {
   "cell_type": "code",
   "execution_count": null,
   "metadata": {
    "colab": {
     "base_uri": "https://localhost:8080/"
    },
    "id": "TBD5W-SJWERa",
    "outputId": "1396852a-e233-49bb-80a1-f3fb16bf7c9f"
   },
   "outputs": [],
   "source": [
    "!nvidia-smi"
   ]
  },
  {
   "cell_type": "code",
   "execution_count": null,
   "metadata": {
    "colab": {
     "base_uri": "https://localhost:8080/"
    },
    "id": "TYanrj2lWM4p",
    "outputId": "21932cc5-b0ff-4ff1-af2d-85a8bbdcf9b1"
   },
   "outputs": [],
   "source": [
    "!pip install torch==1.9.0+cu111 torchvision==0.10.0+cu111 torchaudio===0.9.0 -f https://download.pytorch.org/whl/torch_stable.html"
   ]
  },
  {
   "cell_type": "code",
   "execution_count": 1,
   "metadata": {
    "id": "Jpd3iU1El1ZT"
   },
   "outputs": [],
   "source": [
    "import opendatasets as od\n",
    "from tensorflow import keras\n",
    "import numpy as np"
   ]
  },
  {
   "cell_type": "code",
   "execution_count": 2,
   "metadata": {
    "colab": {
     "base_uri": "https://localhost:8080/"
    },
    "id": "TraicDeCpHii",
    "outputId": "b6cdd2b7-7c26-44a8-be17-7fbbe8ce7574"
   },
   "outputs": [
    {
     "name": "stdout",
     "output_type": "stream",
     "text": [
      "Skipping, found downloaded files in \".\\chest-xray-covid19-pneumonia\" (use force=True to force download)\n",
      "Skipping, found downloaded files in \".\\novel-corona-virus-2019-dataset\" (use force=True to force download)\n"
     ]
    }
   ],
   "source": [
    "od.download(\"https://www.kaggle.com/prashant268/chest-xray-covid19-pneumonia\")\n",
    "od.download(\"https://www.kaggle.com/sudalairajkumar/novel-corona-virus-2019-dataset\")"
   ]
  },
  {
   "cell_type": "code",
   "execution_count": 3,
   "metadata": {
    "id": "JPFiGGjbhta_"
   },
   "outputs": [],
   "source": [
    "LEARNING_RATE = 0.001 # 0.0001\n",
    "MAX_EPOCHS = 25\n",
    "TARGET_FOLDER = \"weights\""
   ]
  },
  {
   "cell_type": "code",
   "execution_count": 4,
   "metadata": {
    "id": "WvAJ8eTnTRkP"
   },
   "outputs": [],
   "source": [
    "import torch\n",
    "import torchvision\n",
    "from torchvision import datasets, transforms"
   ]
  },
  {
   "cell_type": "code",
   "execution_count": 5,
   "metadata": {
    "id": "7Z_GY07pSzQT"
   },
   "outputs": [],
   "source": [
    "transform = transforms.Compose([transforms.Resize((244, 244))\n",
    "                                , transforms.ToTensor()]\n",
    "                               #, transforms.Normalize(mean=[0.485, 0.456, 0.406], std=[0.229, 0.224, 0.225]) # find mean and std of dataset\n",
    "                              )\n",
    "\n",
    "test_set = datasets.ImageFolder('chest-xray-covid19-pneumonia/Data/test', transform=transform)\n",
    "\n",
    "train_set = dataset = datasets.ImageFolder('chest-xray-covid19-pneumonia/Data/train', transform=transform)"
   ]
  },
  {
   "cell_type": "code",
   "execution_count": 6,
   "metadata": {
    "id": "3Z9lep1yVWY3"
   },
   "outputs": [],
   "source": [
    "def label_preparation(labels):\n",
    "    labels = np.array(labels)\n",
    "    labels[labels > 0] = 1\n",
    "    return list(labels)\n",
    "\n",
    "def label_preparation_tensor(labels):\n",
    "    labels[labels > 0] = 1\n",
    "    return labels\n",
    "\n",
    "train_set.targets = label_preparation(train_set.targets)\n",
    "\n",
    "test_set.targets = label_preparation(test_set.targets)"
   ]
  },
  {
   "cell_type": "code",
   "execution_count": 7,
   "metadata": {
    "colab": {
     "base_uri": "https://localhost:8080/"
    },
    "id": "GWhXD92ZRzNP",
    "outputId": "474bd18f-946e-43cf-f59c-a358b6a839eb"
   },
   "outputs": [
    {
     "name": "stdout",
     "output_type": "stream",
     "text": [
      "Current device: cuda:0\n"
     ]
    }
   ],
   "source": [
    "device = torch.device(\"cuda:0\" if torch.cuda.is_available() else \"cpu\")\n",
    "\n",
    "print(f\"Current device: {device}\")"
   ]
  },
  {
   "cell_type": "code",
   "execution_count": 8,
   "metadata": {
    "id": "icqqTTRN-ht6"
   },
   "outputs": [],
   "source": [
    "def calc_accuracy(result, labels):\n",
    "    result = torch.sigmoid(result).round()\n",
    "    \n",
    "    correct_results_sum = (result == labels).sum().float()\n",
    "    acc = correct_results_sum/labels.shape[0]\n",
    "    acc *= 100\n",
    "    \n",
    "    return acc\n"
   ]
  },
  {
   "cell_type": "markdown",
   "metadata": {
    "id": "Uc9Z1kAKniiG"
   },
   "source": [
    "# Federated\n",
    "https://blog.openmined.org/upgrade-to-federated-learning-in-10-lines/\n",
    "\n",
    "i don't think we need syft if we just simulate the federation on one machine"
   ]
  },
  {
   "cell_type": "code",
   "execution_count": 9,
   "metadata": {
    "id": "mllCcvx5VWZA"
   },
   "outputs": [],
   "source": [
    "from collections import OrderedDict"
   ]
  },
  {
   "cell_type": "code",
   "execution_count": 10,
   "metadata": {
    "id": "fJKZarBFVWZB"
   },
   "outputs": [],
   "source": [
    "number_of_clients = 4"
   ]
  },
  {
   "cell_type": "code",
   "execution_count": 11,
   "metadata": {
    "id": "LV6DREbPVWZB"
   },
   "outputs": [],
   "source": [
    "federated_model = torchvision.models.resnet18(pretrained=False, num_classes=1)\n",
    "# federated_model.to(device)"
   ]
  },
  {
   "cell_type": "code",
   "execution_count": 12,
   "metadata": {
    "id": "64fUsJCDVWZB"
   },
   "outputs": [],
   "source": [
    "client_models = [torchvision.models.resnet18(pretrained=False, num_classes=1) for _ in range(number_of_clients)]\n",
    "client_training_loader = [torch.utils.data.DataLoader(train_set, batch_size=32, shuffle=True, num_workers=0, pin_memory=True) for _ in range(number_of_clients)]\n",
    "\n",
    "federated_test_loader = torch.utils.data.DataLoader(test_set, batch_size=32, shuffle=False, num_workers=0)"
   ]
  },
  {
   "cell_type": "code",
   "execution_count": 13,
   "metadata": {
    "id": "vDAjHtuyVWZB"
   },
   "outputs": [],
   "source": [
    "def update_client(federated_model, client):\n",
    "    client.load_state_dict(federated_model.state_dict(), True)\n",
    "    return client\n",
    "    \n",
    "def federated_average(federated_model, client_models):\n",
    "    average_weights = OrderedDict()\n",
    "\n",
    "    for client_model in client_models:\n",
    "        for key, value in client_model.state_dict().items():\n",
    "            if key in average_weights:\n",
    "                average_weights[key] += (1./number_of_clients) * value.clone()\n",
    "            else:\n",
    "                average_weights[key] = (1./number_of_clients) * value.clone()\n",
    "                \n",
    "                \n",
    "    federated_model.load_state_dict(average_weights, True)\n",
    "    return federated_model\n",
    "    "
   ]
  },
  {
   "cell_type": "code",
   "execution_count": 14,
   "metadata": {
    "id": "BNNFC2o-VWZC"
   },
   "outputs": [],
   "source": [
    "def train_federated(model, data_loader, optimizer, loss):\n",
    "    \"\"\"\n",
    "    model -- neural net\n",
    "    data_loader -- dataloader for train images\n",
    "    optimizer -- optimizer\n",
    "    \"\"\"\n",
    "    model.train()\n",
    "    \n",
    "    accuracy = 0\n",
    "    for step, [images, labels] in enumerate(data_loader, 1):\n",
    "        images = images.to(device)\n",
    "        labels = label_preparation_tensor(labels.to(device))\n",
    "\n",
    "        optimizer.zero_grad()\n",
    "        \n",
    "        result = model(images)\n",
    "        targets = labels.unsqueeze(1).float()\n",
    "\n",
    "        loss_value = loss(result.float(), targets)\n",
    "\n",
    "        # backpropagation\n",
    "        loss_value.backward()\n",
    "        optimizer.step()\n",
    "                                    \n",
    "        if step % 10 == 0:\n",
    "            accuracy += calc_accuracy(result, labels.unsqueeze(1))\n",
    "            print(f\"TRAINING - Step: {step}, loss: {loss_value}, rolling accuracy: {accuracy*10/step}\")"
   ]
  },
  {
   "cell_type": "code",
   "execution_count": 15,
   "metadata": {
    "id": "nQ_ek0ayVWZC"
   },
   "outputs": [],
   "source": [
    "def test_federated(model, test_loader, loss):\n",
    "    \"\"\"    \n",
    "    model -- neural net \n",
    "    test_loader -- dataloader of test images\n",
    "    epoch -- current epoch\n",
    "    \"\"\"\n",
    "    model.eval()\n",
    "    model.to(device)\n",
    "    \n",
    "    with torch.no_grad():\n",
    "        loss_value = 0\n",
    "        accuracy = 0\n",
    "        for step, [images, labels] in enumerate(test_loader, 1):\n",
    "            images = images.to(device)\n",
    "            labels = label_preparation_tensor(labels.to(device))\n",
    "\n",
    "            result = model(images)\n",
    "            targets = labels.detach().unsqueeze(1).float()\n",
    "\n",
    "            loss_value += loss(result.detach(), targets)\n",
    "            accuracy += calc_accuracy(result.detach(), labels.detach().unsqueeze(1))\n",
    "\n",
    "        loss_value /= step\n",
    "        accuracy /=  step\n",
    "        \n",
    "        if device.type == \"cuda\": \n",
    "            torch.cuda.empty_cache()\n",
    "      \n",
    "    model.to(\"cpu\")\n",
    "    print(f\"TESTING - Loss: {loss_value}, Accuracy: {accuracy}\")\n",
    "    return accuracy"
   ]
  },
  {
   "cell_type": "code",
   "execution_count": 16,
   "metadata": {
    "id": "hR2YMmTLs49U"
   },
   "outputs": [],
   "source": [
    "def run_federated_training(federated_model, client_models, client_training_loader):\n",
    "    # use pos weights because of unbalanced data set\n",
    "    federated_loss = torch.nn.BCEWithLogitsLoss(pos_weight=torch.tensor([1./10])).to(device) # binary crossentropy\n",
    "    # federated_loss = torch.nn.CrossEntropyLoss(weight=torch.tensor([1./10])).to(device) # sparce categorical crossentropy (federated)\n",
    "\n",
    "    # start training\n",
    "    for epoch in range(MAX_EPOCHS):\n",
    "        for client_idx in range (number_of_clients):\n",
    "            print(f\"+++ FEDERATED MODEL {client_idx}, EPOCH: {epoch+1} +++++++++\")\n",
    "\n",
    "            client_model = client_models[client_idx]\n",
    "            client_model.to(device)\n",
    "            client_model = update_client(federated_model, client_model)\n",
    "            client_optimizer = torch.optim.Adam(client_model.parameters())\n",
    "\n",
    "            train_federated(client_model, client_training_loader[client_idx], client_optimizer, federated_loss)\n",
    "\n",
    "            if device.type == \"cuda\": \n",
    "                torch.cuda.empty_cache()\n",
    "            \n",
    "            client_model.to(\"cpu\")\n",
    "            \n",
    "            # save interim weights\n",
    "            #torch.save(client_model.state_dict(), f'./{TARGET_FOLDER}/client_model_{client_idx}_epoch_{epoch}.ckpt')\n",
    "\n",
    "        federated_model = federated_average(federated_model, client_models)\n",
    "        \n",
    "        # save interim weights\n",
    "        #torch.save(federated_model.state_dict(), f'./{TARGET_FOLDER}/epoch_{epoch}.ckpt')\n",
    "        \n",
    "        if test_federated(federated_model, federated_test_loader, federated_loss) > 97 and epoch > 4:\n",
    "          print(\"Early return: SUCCESS\")\n",
    "          break\n"
   ]
  },
  {
   "cell_type": "code",
   "execution_count": null,
   "metadata": {
    "colab": {
     "base_uri": "https://localhost:8080/",
     "height": 1000
    },
    "id": "YLC89DQ2rKQe",
    "outputId": "23759d6c-72f8-4fca-dbfc-4b0b512d8ba6"
   },
   "outputs": [],
   "source": [
    "run_federated_training(federated_model, client_models, client_training_loader)"
   ]
  },
  {
   "cell_type": "code",
   "execution_count": null,
   "metadata": {},
   "outputs": [],
   "source": []
  }
 ],
 "metadata": {
  "accelerator": "GPU",
  "colab": {
   "collapsed_sections": [],
   "name": "federated_learning_with_save.ipynb",
   "provenance": []
  },
  "kernelspec": {
   "display_name": "Python 3",
   "language": "python",
   "name": "python3"
  },
  "language_info": {
   "codemirror_mode": {
    "name": "ipython",
    "version": 3
   },
   "file_extension": ".py",
   "mimetype": "text/x-python",
   "name": "python",
   "nbconvert_exporter": "python",
   "pygments_lexer": "ipython3",
   "version": "3.7.7"
  }
 },
 "nbformat": 4,
 "nbformat_minor": 1
}
